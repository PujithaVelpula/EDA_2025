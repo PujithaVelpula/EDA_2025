{
 "cells": [
  {
   "cell_type": "code",
   "execution_count": 10,
   "id": "2831ccc5-202f-4a08-a85b-784b80ef13cd",
   "metadata": {},
   "outputs": [],
   "source": [
    "import pandas as pd\n",
    "import numpy as np\n",
    "import matplotlib.pyplot as plt\n",
    "import seaborn as sns\n",
    "\n",
    "visa_df=pd.read_csv(r\"C:\\Users\\purna\\Documents\\Naresh IT\\assignments_ds\\Visadataset.csv\")\n",
    "cat=visa_df.select_dtypes(include='object').columns\n",
    "num=visa_df.select_dtypes(exclude='object').columns"
   ]
  },
  {
   "cell_type": "markdown",
   "id": "6e0d0bc4-ec65-4f11-9d51-27c361fc069d",
   "metadata": {},
   "source": [
    "**we have two sacle methods**\n",
    "\n",
    "     1. z-score\n",
    "     2. MinMaxScore\n",
    "   Z= X−μ/sigma\n"
   ]
  },
  {
   "cell_type": "code",
   "execution_count": 13,
   "id": "d9933211-4655-403c-b545-d18f6f4d7ddb",
   "metadata": {},
   "outputs": [],
   "source": [
    "# step-1: x = prevailaing wage data\n",
    "# step-2: Claculate mean =u\n",
    "# step-3: Claculate std = sigma\n",
    "# step-4: Nr= step-1-step-2\n",
    "# step-5: Z =step4/step3\n",
    "# step-6: Create a new column pwage_z\n",
    "# step-7: Draw the distribution plot for both prevailaing_wage and pwage_z\n",
    "#Obersation: Even though values are modified data distribution kids"
   ]
  },
  {
   "cell_type": "code",
   "execution_count": 20,
   "id": "9b2d855e-5f44-4987-9245-bbdbac98faa8",
   "metadata": {},
   "outputs": [],
   "source": [
    "x=visa_df['prevailing_wage']\n",
    "u=x.mean()\n",
    "sd=x.std()\n",
    "nr=x-u\n",
    "visa_df['p_wage_z']=nr/sd"
   ]
  },
  {
   "cell_type": "code",
   "execution_count": 22,
   "id": "64a77276-74b5-487a-8db6-de53ea001e9f",
   "metadata": {},
   "outputs": [
    {
     "data": {
      "text/html": [
       "<div>\n",
       "<style scoped>\n",
       "    .dataframe tbody tr th:only-of-type {\n",
       "        vertical-align: middle;\n",
       "    }\n",
       "\n",
       "    .dataframe tbody tr th {\n",
       "        vertical-align: top;\n",
       "    }\n",
       "\n",
       "    .dataframe thead th {\n",
       "        text-align: right;\n",
       "    }\n",
       "</style>\n",
       "<table border=\"1\" class=\"dataframe\">\n",
       "  <thead>\n",
       "    <tr style=\"text-align: right;\">\n",
       "      <th></th>\n",
       "      <th>prevailing_wage</th>\n",
       "      <th>p_wage_z</th>\n",
       "    </tr>\n",
       "  </thead>\n",
       "  <tbody>\n",
       "    <tr>\n",
       "      <th>0</th>\n",
       "      <td>592.2029</td>\n",
       "      <td>-1.398510</td>\n",
       "    </tr>\n",
       "    <tr>\n",
       "      <th>1</th>\n",
       "      <td>83425.6500</td>\n",
       "      <td>0.169832</td>\n",
       "    </tr>\n",
       "    <tr>\n",
       "      <th>2</th>\n",
       "      <td>122996.8600</td>\n",
       "      <td>0.919060</td>\n",
       "    </tr>\n",
       "    <tr>\n",
       "      <th>3</th>\n",
       "      <td>83434.0300</td>\n",
       "      <td>0.169991</td>\n",
       "    </tr>\n",
       "    <tr>\n",
       "      <th>4</th>\n",
       "      <td>149907.3900</td>\n",
       "      <td>1.428576</td>\n",
       "    </tr>\n",
       "    <tr>\n",
       "      <th>...</th>\n",
       "      <td>...</td>\n",
       "      <td>...</td>\n",
       "    </tr>\n",
       "    <tr>\n",
       "      <th>25475</th>\n",
       "      <td>77092.5700</td>\n",
       "      <td>0.049923</td>\n",
       "    </tr>\n",
       "    <tr>\n",
       "      <th>25476</th>\n",
       "      <td>279174.7900</td>\n",
       "      <td>3.876083</td>\n",
       "    </tr>\n",
       "    <tr>\n",
       "      <th>25477</th>\n",
       "      <td>146298.8500</td>\n",
       "      <td>1.360253</td>\n",
       "    </tr>\n",
       "    <tr>\n",
       "      <th>25478</th>\n",
       "      <td>86154.7700</td>\n",
       "      <td>0.221504</td>\n",
       "    </tr>\n",
       "    <tr>\n",
       "      <th>25479</th>\n",
       "      <td>70876.9100</td>\n",
       "      <td>-0.067762</td>\n",
       "    </tr>\n",
       "  </tbody>\n",
       "</table>\n",
       "<p>25480 rows × 2 columns</p>\n",
       "</div>"
      ],
      "text/plain": [
       "       prevailing_wage  p_wage_z\n",
       "0             592.2029 -1.398510\n",
       "1           83425.6500  0.169832\n",
       "2          122996.8600  0.919060\n",
       "3           83434.0300  0.169991\n",
       "4          149907.3900  1.428576\n",
       "...                ...       ...\n",
       "25475       77092.5700  0.049923\n",
       "25476      279174.7900  3.876083\n",
       "25477      146298.8500  1.360253\n",
       "25478       86154.7700  0.221504\n",
       "25479       70876.9100 -0.067762\n",
       "\n",
       "[25480 rows x 2 columns]"
      ]
     },
     "execution_count": 22,
     "metadata": {},
     "output_type": "execute_result"
    }
   ],
   "source": [
    "visa_df[['prevailing_wage','p_wage_z']]"
   ]
  },
  {
   "cell_type": "code",
   "execution_count": 24,
   "id": "9cf8cf0a-42d2-4787-ab06-ef79afb9760a",
   "metadata": {},
   "outputs": [
    {
     "data": {
      "image/png": "[encoded data removed]",
      "text/plain": [
       "<Figure size 800x300 with 2 Axes>"
      ]
     },
     "metadata": {},
     "output_type": "display_data"
    }
   ],
   "source": [
    "plt.figure(figsize=(8,3))\n",
    "plt.subplot(1,2,1).hist(visa_df['prevailing_wage'],bins=40)\n",
    "plt.subplot(1,2,2).hist(visa_df['p_wage_z'],bins=40)\n",
    "plt.show()"
   ]
  },
  {
   "cell_type": "markdown",
   "id": "31513290-5067-4d9b-a261-122cf1ff0719",
   "metadata": {},
   "source": [
    "**Standard Sclar**\n",
    "   - sklearn\n",
    "        - preprocessing\n",
    "          \n",
    "               - standardscalar"
   ]
  },
  {
   "cell_type": "code",
   "execution_count": 34,
   "id": "f4f058e4-71bc-48e6-8a16-639f92eaa7bd",
   "metadata": {},
   "outputs": [],
   "source": [
    "# Read the pcakage\n",
    "# save the package\n",
    "# Apply fit transform\n",
    "from sklearn.preprocessing import StandardScaler\n",
    "ss=StandardScaler()\n",
    "visa_df['p_wage_ss']=ss.fit_transform(visa_df[['prevailing_wage']])\n"
   ]
  },
  {
   "cell_type": "code",
   "execution_count": 36,
   "id": "656a5d93-9786-403e-b885-796eaec22f8a",
   "metadata": {},
   "outputs": [
    {
     "data": {
      "text/html": [
       "<div>\n",
       "<style scoped>\n",
       "    .dataframe tbody tr th:only-of-type {\n",
       "        vertical-align: middle;\n",
       "    }\n",
       "\n",
       "    .dataframe tbody tr th {\n",
       "        vertical-align: top;\n",
       "    }\n",
       "\n",
       "    .dataframe thead th {\n",
       "        text-align: right;\n",
       "    }\n",
       "</style>\n",
       "<table border=\"1\" class=\"dataframe\">\n",
       "  <thead>\n",
       "    <tr style=\"text-align: right;\">\n",
       "      <th></th>\n",
       "      <th>prevailing_wage</th>\n",
       "      <th>p_wage_z</th>\n",
       "      <th>p_wage_ss</th>\n",
       "    </tr>\n",
       "  </thead>\n",
       "  <tbody>\n",
       "    <tr>\n",
       "      <th>0</th>\n",
       "      <td>592.2029</td>\n",
       "      <td>-1.398510</td>\n",
       "      <td>-1.398537</td>\n",
       "    </tr>\n",
       "    <tr>\n",
       "      <th>1</th>\n",
       "      <td>83425.6500</td>\n",
       "      <td>0.169832</td>\n",
       "      <td>0.169835</td>\n",
       "    </tr>\n",
       "    <tr>\n",
       "      <th>2</th>\n",
       "      <td>122996.8600</td>\n",
       "      <td>0.919060</td>\n",
       "      <td>0.919079</td>\n",
       "    </tr>\n",
       "    <tr>\n",
       "      <th>3</th>\n",
       "      <td>83434.0300</td>\n",
       "      <td>0.169991</td>\n",
       "      <td>0.169994</td>\n",
       "    </tr>\n",
       "    <tr>\n",
       "      <th>4</th>\n",
       "      <td>149907.3900</td>\n",
       "      <td>1.428576</td>\n",
       "      <td>1.428604</td>\n",
       "    </tr>\n",
       "    <tr>\n",
       "      <th>...</th>\n",
       "      <td>...</td>\n",
       "      <td>...</td>\n",
       "      <td>...</td>\n",
       "    </tr>\n",
       "    <tr>\n",
       "      <th>25475</th>\n",
       "      <td>77092.5700</td>\n",
       "      <td>0.049923</td>\n",
       "      <td>0.049924</td>\n",
       "    </tr>\n",
       "    <tr>\n",
       "      <th>25476</th>\n",
       "      <td>279174.7900</td>\n",
       "      <td>3.876083</td>\n",
       "      <td>3.876159</td>\n",
       "    </tr>\n",
       "    <tr>\n",
       "      <th>25477</th>\n",
       "      <td>146298.8500</td>\n",
       "      <td>1.360253</td>\n",
       "      <td>1.360280</td>\n",
       "    </tr>\n",
       "    <tr>\n",
       "      <th>25478</th>\n",
       "      <td>86154.7700</td>\n",
       "      <td>0.221504</td>\n",
       "      <td>0.221509</td>\n",
       "    </tr>\n",
       "    <tr>\n",
       "      <th>25479</th>\n",
       "      <td>70876.9100</td>\n",
       "      <td>-0.067762</td>\n",
       "      <td>-0.067763</td>\n",
       "    </tr>\n",
       "  </tbody>\n",
       "</table>\n",
       "<p>25480 rows × 3 columns</p>\n",
       "</div>"
      ],
      "text/plain": [
       "       prevailing_wage  p_wage_z  p_wage_ss\n",
       "0             592.2029 -1.398510  -1.398537\n",
       "1           83425.6500  0.169832   0.169835\n",
       "2          122996.8600  0.919060   0.919079\n",
       "3           83434.0300  0.169991   0.169994\n",
       "4          149907.3900  1.428576   1.428604\n",
       "...                ...       ...        ...\n",
       "25475       77092.5700  0.049923   0.049924\n",
       "25476      279174.7900  3.876083   3.876159\n",
       "25477      146298.8500  1.360253   1.360280\n",
       "25478       86154.7700  0.221504   0.221509\n",
       "25479       70876.9100 -0.067762  -0.067763\n",
       "\n",
       "[25480 rows x 3 columns]"
      ]
     },
     "execution_count": 36,
     "metadata": {},
     "output_type": "execute_result"
    }
   ],
   "source": [
    "visa_df[['prevailing_wage','p_wage_z','p_wage_ss']]"
   ]
  },
  {
   "cell_type": "markdown",
   "id": "a234b7fc-9358-4f79-829b-7bd6cfdaafac",
   "metadata": {},
   "source": [
    "**Normalization**\n",
    "\n",
    "\n",
    "     X scaled  =     X-Xmin/Xmax-Xmin\n",
    "\n"
   ]
  },
  {
   "cell_type": "code",
   "execution_count": null,
   "id": "573e0256-30d9-4817-b87b-a94977c32e58",
   "metadata": {},
   "outputs": [],
   "source": [
    "visa_df=pd.read_csv(r\"C:\\Users\\purna\\Documents\\Naresh IT\\assignments_ds\\Visadataset.csv\")"
   ]
  },
  {
   "cell_type": "code",
   "execution_count": null,
   "id": "1a651547-37d9-4ba3-a8a7-854001e2875b",
   "metadata": {},
   "outputs": [],
   "source": [
    "# step-1: read the prevailing wagw data X\n",
    "# step-2: calaculate X_min\n",
    "# step-3: calaculate X_max\n",
    "# step-4: Nr=X-X_min\n",
    "# step-5: Dr=Xmax-Xmin\n",
    "# step-6: wage_norm=Nr/Dr\n",
    "# check the max(1) and min (0) values\n",
    "\n",
    "# sklearn\n",
    "# preprocessing\n",
    "# MinMaxScalar"
   ]
  },
  {
   "cell_type": "code",
   "execution_count": 42,
   "id": "30a18530-9f37-40af-91bc-61164db96b40",
   "metadata": {},
   "outputs": [],
   "source": [
    "Nr=visa_df['prevailing_wage']-visa_df['prevailing_wage'].min()\n",
    "Dr=visa_df['prevailing_wage'].max()-visa_df['prevailing_wage'].min()\n",
    "visa_df['p_wage_norm']=Nr/Dr"
   ]
  },
  {
   "cell_type": "code",
   "execution_count": 44,
   "id": "45a7ec81-caef-41a4-a77d-4be3a5f5fe97",
   "metadata": {},
   "outputs": [
    {
     "data": {
      "text/plain": [
       "prevailing_wage    21077\n",
       "p_wage_norm        21077\n",
       "dtype: int64"
      ]
     },
     "execution_count": 44,
     "metadata": {},
     "output_type": "execute_result"
    }
   ],
   "source": [
    "#idx max will give an ID where each cplumn value has maximu\n",
    "visa_df[['prevailing_wage','p_wage_norm']].idxmax()"
   ]
  },
  {
   "cell_type": "code",
   "execution_count": 46,
   "id": "48330fbd-07d2-4ef8-9886-1b9fc1b2b4df",
   "metadata": {},
   "outputs": [
    {
     "data": {
      "text/html": [
       "<div>\n",
       "<style scoped>\n",
       "    .dataframe tbody tr th:only-of-type {\n",
       "        vertical-align: middle;\n",
       "    }\n",
       "\n",
       "    .dataframe tbody tr th {\n",
       "        vertical-align: top;\n",
       "    }\n",
       "\n",
       "    .dataframe thead th {\n",
       "        text-align: right;\n",
       "    }\n",
       "</style>\n",
       "<table border=\"1\" class=\"dataframe\">\n",
       "  <thead>\n",
       "    <tr style=\"text-align: right;\">\n",
       "      <th></th>\n",
       "      <th>case_id</th>\n",
       "      <th>continent</th>\n",
       "      <th>education_of_employee</th>\n",
       "      <th>has_job_experience</th>\n",
       "      <th>requires_job_training</th>\n",
       "      <th>no_of_employees</th>\n",
       "      <th>yr_of_estab</th>\n",
       "      <th>region_of_employment</th>\n",
       "      <th>prevailing_wage</th>\n",
       "      <th>unit_of_wage</th>\n",
       "      <th>full_time_position</th>\n",
       "      <th>case_status</th>\n",
       "      <th>p_wage_z</th>\n",
       "      <th>p_wage_ss</th>\n",
       "      <th>p_wage_norm</th>\n",
       "    </tr>\n",
       "  </thead>\n",
       "  <tbody>\n",
       "    <tr>\n",
       "      <th>21077</th>\n",
       "      <td>EZYV21078</td>\n",
       "      <td>Asia</td>\n",
       "      <td>High School</td>\n",
       "      <td>N</td>\n",
       "      <td>N</td>\n",
       "      <td>442</td>\n",
       "      <td>2006</td>\n",
       "      <td>Midwest</td>\n",
       "      <td>319210.2700</td>\n",
       "      <td>Year</td>\n",
       "      <td>Y</td>\n",
       "      <td>Denied</td>\n",
       "      <td>4.634102</td>\n",
       "      <td>4.634193</td>\n",
       "      <td>1.0</td>\n",
       "    </tr>\n",
       "    <tr>\n",
       "      <th>20575</th>\n",
       "      <td>EZYV20576</td>\n",
       "      <td>North America</td>\n",
       "      <td>Master's</td>\n",
       "      <td>N</td>\n",
       "      <td>N</td>\n",
       "      <td>1552</td>\n",
       "      <td>2004</td>\n",
       "      <td>Northeast</td>\n",
       "      <td>2.1367</td>\n",
       "      <td>Hour</td>\n",
       "      <td>Y</td>\n",
       "      <td>Certified</td>\n",
       "      <td>-1.409682</td>\n",
       "      <td>-1.409710</td>\n",
       "      <td>0.0</td>\n",
       "    </tr>\n",
       "  </tbody>\n",
       "</table>\n",
       "</div>"
      ],
      "text/plain": [
       "         case_id      continent education_of_employee has_job_experience  \\\n",
       "21077  EZYV21078           Asia           High School                  N   \n",
       "20575  EZYV20576  North America              Master's                  N   \n",
       "\n",
       "      requires_job_training  no_of_employees  yr_of_estab  \\\n",
       "21077                     N              442         2006   \n",
       "20575                     N             1552         2004   \n",
       "\n",
       "      region_of_employment  prevailing_wage unit_of_wage full_time_position  \\\n",
       "21077              Midwest      319210.2700         Year                  Y   \n",
       "20575            Northeast           2.1367         Hour                  Y   \n",
       "\n",
       "      case_status  p_wage_z  p_wage_ss  p_wage_norm  \n",
       "21077      Denied  4.634102   4.634193          1.0  \n",
       "20575   Certified -1.409682  -1.409710          0.0  "
      ]
     },
     "execution_count": 46,
     "metadata": {},
     "output_type": "execute_result"
    }
   ],
   "source": [
    "visa_df.iloc[[21077,20575]]"
   ]
  },
  {
   "cell_type": "code",
   "execution_count": 50,
   "id": "48c45123-63d8-428e-b636-4e34887363b9",
   "metadata": {},
   "outputs": [
    {
     "data": {
      "text/plain": [
       "array([[0.00184853],\n",
       "       [0.2613452 ],\n",
       "       [0.385312  ],\n",
       "       ...,\n",
       "       [0.45831136],\n",
       "       [0.26989486],\n",
       "       [0.22203311]])"
      ]
     },
     "execution_count": 50,
     "metadata": {},
     "output_type": "execute_result"
    }
   ],
   "source": [
    "from sklearn.preprocessing import MinMaxScaler\n",
    "mms=MinMaxScaler()\n",
    "mms.fit_transform(visa_df[['prevailing_wage']])"
   ]
  },
  {
   "cell_type": "code",
   "execution_count": null,
   "id": "d3690bc8-1fa1-4a80-a4ac-054c2fd8b8f0",
   "metadata": {},
   "outputs": [],
   "source": []
  }
 ],
 "metadata": {
  "kernelspec": {
   "display_name": "Python 3 (ipykernel)",
   "language": "python",
   "name": "python3"
  },
  "language_info": {
   "codemirror_mode": {
    "name": "ipython",
    "version": 3
   },
   "file_extension": ".py",
   "mimetype": "text/x-python",
   "name": "python",
   "nbconvert_exporter": "python",
   "pygments_lexer": "ipython3",
   "version": "3.12.7"
  }
 },
 "nbformat": 4,
 "nbformat_minor": 5
}
